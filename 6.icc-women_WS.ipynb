{
 "cells": [
  {
   "cell_type": "markdown",
   "metadata": {},
   "source": [
    "\n",
    "6)Write a python program to scrape cricket rankings from ‘www.icc-cricket.com’. You have to scrape:i) Top 10 ODI teams in women’s cricket along with the records for matches, points and rating.ii) Top 10 women’s ODI players along with the records of their team and rating.iii) Top 10 women’s ODI all-rounder along with the records of their team and rating."
   ]
  },
  {
   "cell_type": "code",
   "execution_count": 1,
   "metadata": {},
   "outputs": [],
   "source": [
    "from selenium import webdriver\n",
    "from bs4 import BeautifulSoup\n",
    "import requests\n",
    "import pandas as pd"
   ]
  },
  {
   "cell_type": "code",
   "execution_count": 2,
   "metadata": {},
   "outputs": [],
   "source": [
    "driver = webdriver.Chrome(r\"C:\\Users\\Scp\\Desktop\\fliprobo\\chromedriver.exe\")"
   ]
  },
  {
   "cell_type": "code",
   "execution_count": 3,
   "metadata": {},
   "outputs": [
    {
     "data": {
      "text/plain": [
       "<Response [200]>"
      ]
     },
     "execution_count": 3,
     "metadata": {},
     "output_type": "execute_result"
    }
   ],
   "source": [
    "url=\"https://www.icc-cricket.com/rankings/womens/team-rankings/odi\"\n",
    "request=requests.get(url)\n",
    "request"
   ]
  },
  {
   "cell_type": "code",
   "execution_count": 4,
   "metadata": {},
   "outputs": [],
   "source": [
    "Teams=[]\n",
    "Matches=[]\n",
    "Points=[]\n",
    "Ratings=[]\n",
    "driver.get(url)"
   ]
  },
  {
   "cell_type": "code",
   "execution_count": 6,
   "metadata": {},
   "outputs": [
    {
     "data": {
      "text/plain": [
       "[   Pos           Team  T  Matches  M  Points  P  Rating  R\n",
       " 0    1    Australia  AUS          15       2436        162\n",
       " 1    2        India  IND          15       1812        121\n",
       " 2    3      England  ENG          14       1670        119\n",
       " 3    4  South Africa  SA          16       1713        107\n",
       " 4    5   New Zealand  NZ          15       1384         92\n",
       " 5    6   West Indies  WI          12       1025         85\n",
       " 6    7     Pakistan  PAK          12        927         77\n",
       " 7    8   Bangladesh  BAN           5        306         61\n",
       " 8    9     Sri Lanka  SL          11        519         47\n",
       " 9   10      Ireland  IRE           2         25         13]"
      ]
     },
     "execution_count": 6,
     "metadata": {},
     "output_type": "execute_result"
    }
   ],
   "source": [
    "df=pd.read_html(\"https://www.icc-cricket.com/rankings/womens/team-rankings/odi\")\n",
    "df[:10]"
   ]
  },
  {
   "cell_type": "markdown",
   "metadata": {},
   "source": [
    "# ii) Top 10 women’s ODI players along with the records of their team and rating."
   ]
  },
  {
   "cell_type": "code",
   "execution_count": 7,
   "metadata": {},
   "outputs": [],
   "source": [
    "Player=[]\n",
    "Team=[]\n",
    "Rating=[]\n",
    "driver.get(\"https://www.icc-cricket.com/rankings/womens/player-rankings/odi\")"
   ]
  },
  {
   "cell_type": "code",
   "execution_count": 8,
   "metadata": {},
   "outputs": [
    {
     "name": "stdout",
     "output_type": "stream",
     "text": [
      "27 27 27\n"
     ]
    }
   ],
   "source": [
    "content= driver.page_source\n",
    "soup= BeautifulSoup(content)\n",
    "player=soup.findAll(\"td\", attrs={\"class\":\"table-body__cell name\"})\n",
    "team=soup.findAll(\"span\", attrs={\"class\":\"table-body__logo-text\"})\n",
    "rating=soup.findAll(\"td\", attrs={\"class\":\"table-body__cell u-text-right rating\"})\n",
    "print(len(player), len(team), len(rating))"
   ]
  },
  {
   "cell_type": "code",
   "execution_count": 9,
   "metadata": {},
   "outputs": [
    {
     "data": {
      "text/plain": [
       "['Stafanie Taylor',\n",
       " 'Alyssa Healy',\n",
       " 'Smriti Mandhana',\n",
       " 'Amy Satterthwaite',\n",
       " 'Tammy Beaumont',\n",
       " 'Ellyse Perry',\n",
       " 'Lizelle Lee',\n",
       " 'Laura Wolvaardt',\n",
       " 'Mithali Raj',\n",
       " 'Marizanne Kapp',\n",
       " 'Megan Schutt',\n",
       " 'Shabnim Ismail',\n",
       " 'Jhulan Goswami',\n",
       " 'Poonam Yadav',\n",
       " 'Shikha Pandey',\n",
       " 'Ellyse Perry',\n",
       " 'Anya Shrubsole',\n",
       " 'Deepti Sharma',\n",
       " 'Stafanie Taylor',\n",
       " 'Marizanne Kapp',\n",
       " 'Deepti Sharma',\n",
       " 'Dane van Niekerk',\n",
       " 'Jess Jonassen',\n",
       " 'Sophie Devine',\n",
       " 'Natalie Sciver',\n",
       " 'Shikha Pandey',\n",
       " 'Katherine Brunt']"
      ]
     },
     "execution_count": 9,
     "metadata": {},
     "output_type": "execute_result"
    }
   ],
   "source": [
    "for i in player:\n",
    "    Player.append(i.text.replace('\\n',''))\n",
    "Player"
   ]
  },
  {
   "cell_type": "code",
   "execution_count": 10,
   "metadata": {},
   "outputs": [
    {
     "data": {
      "text/plain": [
       "['WI',\n",
       " 'AUS',\n",
       " 'IND',\n",
       " 'NZ',\n",
       " 'ENG',\n",
       " 'AUS',\n",
       " 'SA',\n",
       " 'SA',\n",
       " 'IND',\n",
       " 'SA',\n",
       " 'AUS',\n",
       " 'SA',\n",
       " 'IND',\n",
       " 'IND',\n",
       " 'IND',\n",
       " 'AUS',\n",
       " 'ENG',\n",
       " 'IND',\n",
       " 'WI',\n",
       " 'SA',\n",
       " 'IND',\n",
       " 'SA',\n",
       " 'AUS',\n",
       " 'NZ',\n",
       " 'ENG',\n",
       " 'IND',\n",
       " 'ENG']"
      ]
     },
     "execution_count": 10,
     "metadata": {},
     "output_type": "execute_result"
    }
   ],
   "source": [
    "for i in team:\n",
    "    Team.append(i.text.replace('\\n',''))\n",
    "Team"
   ]
  },
  {
   "cell_type": "code",
   "execution_count": 11,
   "metadata": {},
   "outputs": [
    {
     "data": {
      "text/plain": [
       "['746',\n",
       " '741',\n",
       " '732',\n",
       " '723',\n",
       " '716',\n",
       " '691',\n",
       " '690',\n",
       " '689',\n",
       " '687',\n",
       " '738',\n",
       " '735',\n",
       " '717',\n",
       " '691',\n",
       " '679',\n",
       " '675',\n",
       " '666',\n",
       " '645',\n",
       " '639',\n",
       " '410',\n",
       " '389',\n",
       " '359',\n",
       " '335',\n",
       " '301',\n",
       " '289',\n",
       " '273',\n",
       " '250',\n",
       " '232']"
      ]
     },
     "execution_count": 11,
     "metadata": {},
     "output_type": "execute_result"
    }
   ],
   "source": [
    "for i in rating:\n",
    "    Rating.append(i.text.replace(\"\\n\",''))\n",
    "Rating"
   ]
  },
  {
   "cell_type": "code",
   "execution_count": 12,
   "metadata": {},
   "outputs": [
    {
     "data": {
      "text/html": [
       "<div>\n",
       "<style scoped>\n",
       "    .dataframe tbody tr th:only-of-type {\n",
       "        vertical-align: middle;\n",
       "    }\n",
       "\n",
       "    .dataframe tbody tr th {\n",
       "        vertical-align: top;\n",
       "    }\n",
       "\n",
       "    .dataframe thead th {\n",
       "        text-align: right;\n",
       "    }\n",
       "</style>\n",
       "<table border=\"1\" class=\"dataframe\">\n",
       "  <thead>\n",
       "    <tr style=\"text-align: right;\">\n",
       "      <th></th>\n",
       "      <th>PlayerName</th>\n",
       "      <th>TeamName</th>\n",
       "      <th>Ratings</th>\n",
       "    </tr>\n",
       "  </thead>\n",
       "  <tbody>\n",
       "    <tr>\n",
       "      <th>0</th>\n",
       "      <td>Stafanie Taylor</td>\n",
       "      <td>WI</td>\n",
       "      <td>746</td>\n",
       "    </tr>\n",
       "    <tr>\n",
       "      <th>1</th>\n",
       "      <td>Alyssa Healy</td>\n",
       "      <td>AUS</td>\n",
       "      <td>741</td>\n",
       "    </tr>\n",
       "    <tr>\n",
       "      <th>2</th>\n",
       "      <td>Smriti Mandhana</td>\n",
       "      <td>IND</td>\n",
       "      <td>732</td>\n",
       "    </tr>\n",
       "    <tr>\n",
       "      <th>3</th>\n",
       "      <td>Amy Satterthwaite</td>\n",
       "      <td>NZ</td>\n",
       "      <td>723</td>\n",
       "    </tr>\n",
       "    <tr>\n",
       "      <th>4</th>\n",
       "      <td>Tammy Beaumont</td>\n",
       "      <td>ENG</td>\n",
       "      <td>716</td>\n",
       "    </tr>\n",
       "    <tr>\n",
       "      <th>5</th>\n",
       "      <td>Ellyse Perry</td>\n",
       "      <td>AUS</td>\n",
       "      <td>691</td>\n",
       "    </tr>\n",
       "    <tr>\n",
       "      <th>6</th>\n",
       "      <td>Lizelle Lee</td>\n",
       "      <td>SA</td>\n",
       "      <td>690</td>\n",
       "    </tr>\n",
       "    <tr>\n",
       "      <th>7</th>\n",
       "      <td>Laura Wolvaardt</td>\n",
       "      <td>SA</td>\n",
       "      <td>689</td>\n",
       "    </tr>\n",
       "    <tr>\n",
       "      <th>8</th>\n",
       "      <td>Mithali Raj</td>\n",
       "      <td>IND</td>\n",
       "      <td>687</td>\n",
       "    </tr>\n",
       "    <tr>\n",
       "      <th>9</th>\n",
       "      <td>Marizanne Kapp</td>\n",
       "      <td>SA</td>\n",
       "      <td>738</td>\n",
       "    </tr>\n",
       "  </tbody>\n",
       "</table>\n",
       "</div>"
      ],
      "text/plain": [
       "          PlayerName TeamName Ratings\n",
       "0    Stafanie Taylor       WI     746\n",
       "1       Alyssa Healy      AUS     741\n",
       "2    Smriti Mandhana      IND     732\n",
       "3  Amy Satterthwaite       NZ     723\n",
       "4     Tammy Beaumont      ENG     716\n",
       "5       Ellyse Perry      AUS     691\n",
       "6        Lizelle Lee       SA     690\n",
       "7    Laura Wolvaardt       SA     689\n",
       "8        Mithali Raj      IND     687\n",
       "9     Marizanne Kapp       SA     738"
      ]
     },
     "execution_count": 12,
     "metadata": {},
     "output_type": "execute_result"
    }
   ],
   "source": [
    "df=pd.DataFrame({\"PlayerName\":Player[:10],\"TeamName\":Team[:10], \"Ratings\":Rating[:10]})\n",
    "df"
   ]
  },
  {
   "cell_type": "markdown",
   "metadata": {},
   "source": [
    "# iii) Top 10 women’s ODI all-rounder along with the records of their team and rating."
   ]
  },
  {
   "cell_type": "code",
   "execution_count": 14,
   "metadata": {},
   "outputs": [],
   "source": [
    "Player=[]\n",
    "Team=[]\n",
    "Rating=[]\n",
    "driver.get(\"https://www.icc-cricket.com/rankings/womens/player-rankings/odi/all-rounder\")"
   ]
  },
  {
   "cell_type": "code",
   "execution_count": 15,
   "metadata": {},
   "outputs": [
    {
     "name": "stdout",
     "output_type": "stream",
     "text": [
      "19 19 19\n"
     ]
    }
   ],
   "source": [
    "content= driver.page_source\n",
    "soup= BeautifulSoup(content)\n",
    "player=soup.findAll(\"td\", attrs={\"class\":\"table-body__cell rankings-table__name name\"})\n",
    "team=soup.findAll(\"span\", attrs={\"table-body__logo-text\"})\n",
    "rating=soup.findAll(\"td\", attrs={\"table-body__cell rating\"})\n",
    "print(len(player), len(team), len(rating))"
   ]
  },
  {
   "cell_type": "code",
   "execution_count": 16,
   "metadata": {},
   "outputs": [
    {
     "data": {
      "text/plain": [
       "['Stafanie Taylor',\n",
       " 'Marizanne Kapp',\n",
       " 'Deepti Sharma',\n",
       " 'Dane van Niekerk',\n",
       " 'Jess Jonassen',\n",
       " 'Sophie Devine',\n",
       " 'Natalie Sciver',\n",
       " 'Shikha Pandey',\n",
       " 'Katherine Brunt',\n",
       " 'Jhulan Goswami',\n",
       " 'Ashleigh Gardner',\n",
       " 'Sune Luus',\n",
       " 'Rumana Ahmed',\n",
       " 'Heather Knight',\n",
       " 'Hayley Matthews',\n",
       " 'Poonam Yadav',\n",
       " 'Chamari Athapaththu',\n",
       " 'Amelia Kerr',\n",
       " 'Anya Shrubsole']"
      ]
     },
     "execution_count": 16,
     "metadata": {},
     "output_type": "execute_result"
    }
   ],
   "source": [
    "for i in player:\n",
    "    Player.append(i.text.replace('\\n',''))\n",
    "Player"
   ]
  },
  {
   "cell_type": "code",
   "execution_count": 17,
   "metadata": {},
   "outputs": [
    {
     "data": {
      "text/plain": [
       "['WI',\n",
       " 'SA',\n",
       " 'IND',\n",
       " 'SA',\n",
       " 'AUS',\n",
       " 'NZ',\n",
       " 'ENG',\n",
       " 'IND',\n",
       " 'ENG',\n",
       " 'IND',\n",
       " 'AUS',\n",
       " 'SA',\n",
       " 'BAN',\n",
       " 'ENG',\n",
       " 'WI',\n",
       " 'IND',\n",
       " 'SL',\n",
       " 'NZ',\n",
       " 'ENG']"
      ]
     },
     "execution_count": 17,
     "metadata": {},
     "output_type": "execute_result"
    }
   ],
   "source": [
    "for i in team:\n",
    "    Team.append(i.text.replace('\\n',''))\n",
    "Team"
   ]
  },
  {
   "cell_type": "code",
   "execution_count": 18,
   "metadata": {},
   "outputs": [
    {
     "data": {
      "text/plain": [
       "['410',\n",
       " '389',\n",
       " '359',\n",
       " '335',\n",
       " '301',\n",
       " '289',\n",
       " '273',\n",
       " '250',\n",
       " '232',\n",
       " '224',\n",
       " '223',\n",
       " '188',\n",
       " '179',\n",
       " '178',\n",
       " '176',\n",
       " '168',\n",
       " '164',\n",
       " '158',\n",
       " '154']"
      ]
     },
     "execution_count": 18,
     "metadata": {},
     "output_type": "execute_result"
    }
   ],
   "source": [
    "for i in rating:\n",
    "    Rating.append(i.text.replace(\"\\n\",''))\n",
    "Rating"
   ]
  },
  {
   "cell_type": "code",
   "execution_count": 19,
   "metadata": {},
   "outputs": [
    {
     "data": {
      "text/html": [
       "<div>\n",
       "<style scoped>\n",
       "    .dataframe tbody tr th:only-of-type {\n",
       "        vertical-align: middle;\n",
       "    }\n",
       "\n",
       "    .dataframe tbody tr th {\n",
       "        vertical-align: top;\n",
       "    }\n",
       "\n",
       "    .dataframe thead th {\n",
       "        text-align: right;\n",
       "    }\n",
       "</style>\n",
       "<table border=\"1\" class=\"dataframe\">\n",
       "  <thead>\n",
       "    <tr style=\"text-align: right;\">\n",
       "      <th></th>\n",
       "      <th>PlayerName</th>\n",
       "      <th>TeamName</th>\n",
       "      <th>Ratings</th>\n",
       "    </tr>\n",
       "  </thead>\n",
       "  <tbody>\n",
       "    <tr>\n",
       "      <th>0</th>\n",
       "      <td>Stafanie Taylor</td>\n",
       "      <td>WI</td>\n",
       "      <td>410</td>\n",
       "    </tr>\n",
       "    <tr>\n",
       "      <th>1</th>\n",
       "      <td>Marizanne Kapp</td>\n",
       "      <td>SA</td>\n",
       "      <td>389</td>\n",
       "    </tr>\n",
       "    <tr>\n",
       "      <th>2</th>\n",
       "      <td>Deepti Sharma</td>\n",
       "      <td>IND</td>\n",
       "      <td>359</td>\n",
       "    </tr>\n",
       "    <tr>\n",
       "      <th>3</th>\n",
       "      <td>Dane van Niekerk</td>\n",
       "      <td>SA</td>\n",
       "      <td>335</td>\n",
       "    </tr>\n",
       "    <tr>\n",
       "      <th>4</th>\n",
       "      <td>Jess Jonassen</td>\n",
       "      <td>AUS</td>\n",
       "      <td>301</td>\n",
       "    </tr>\n",
       "    <tr>\n",
       "      <th>5</th>\n",
       "      <td>Sophie Devine</td>\n",
       "      <td>NZ</td>\n",
       "      <td>289</td>\n",
       "    </tr>\n",
       "    <tr>\n",
       "      <th>6</th>\n",
       "      <td>Natalie Sciver</td>\n",
       "      <td>ENG</td>\n",
       "      <td>273</td>\n",
       "    </tr>\n",
       "    <tr>\n",
       "      <th>7</th>\n",
       "      <td>Shikha Pandey</td>\n",
       "      <td>IND</td>\n",
       "      <td>250</td>\n",
       "    </tr>\n",
       "    <tr>\n",
       "      <th>8</th>\n",
       "      <td>Katherine Brunt</td>\n",
       "      <td>ENG</td>\n",
       "      <td>232</td>\n",
       "    </tr>\n",
       "    <tr>\n",
       "      <th>9</th>\n",
       "      <td>Jhulan Goswami</td>\n",
       "      <td>IND</td>\n",
       "      <td>224</td>\n",
       "    </tr>\n",
       "  </tbody>\n",
       "</table>\n",
       "</div>"
      ],
      "text/plain": [
       "         PlayerName TeamName Ratings\n",
       "0   Stafanie Taylor       WI     410\n",
       "1    Marizanne Kapp       SA     389\n",
       "2     Deepti Sharma      IND     359\n",
       "3  Dane van Niekerk       SA     335\n",
       "4     Jess Jonassen      AUS     301\n",
       "5     Sophie Devine       NZ     289\n",
       "6    Natalie Sciver      ENG     273\n",
       "7     Shikha Pandey      IND     250\n",
       "8   Katherine Brunt      ENG     232\n",
       "9    Jhulan Goswami      IND     224"
      ]
     },
     "execution_count": 19,
     "metadata": {},
     "output_type": "execute_result"
    }
   ],
   "source": [
    "df=pd.DataFrame({\"PlayerName\":Player[:10],\"TeamName\":Team[:10], \"Ratings\":Rating[:10]})\n",
    "df"
   ]
  },
  {
   "cell_type": "code",
   "execution_count": null,
   "metadata": {},
   "outputs": [],
   "source": []
  }
 ],
 "metadata": {
  "kernelspec": {
   "display_name": "Python 3",
   "language": "python",
   "name": "python3"
  },
  "language_info": {
   "codemirror_mode": {
    "name": "ipython",
    "version": 3
   },
   "file_extension": ".py",
   "mimetype": "text/x-python",
   "name": "python",
   "nbconvert_exporter": "python",
   "pygments_lexer": "ipython3",
   "version": "3.7.6"
  }
 },
 "nbformat": 4,
 "nbformat_minor": 4
}
